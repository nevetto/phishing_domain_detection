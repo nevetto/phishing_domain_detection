{
 "cells": [
  {
   "cell_type": "markdown",
   "metadata": {},
   "source": [
    "# PHISHING DOMAIN DETECTION"
   ]
  },
  {
   "cell_type": "markdown",
   "metadata": {},
   "source": [
    "## Life cycle of the project\n",
    "\n",
    "Understanding The Problem\n",
    "Reading Dataset Into The Working File\n",
    "Getting Familiar With The Dataset\n",
    "Exploratory Data Analysis\n",
    "Data Pre-Processing\n",
    "Model Training\n",
    "Choose Best Model"
   ]
  },
  {
   "cell_type": "markdown",
   "metadata": {},
   "source": [
    "## Problem Statement:\n",
    "Phishing is a type of fraud in which an attacker impersonates a reputable company or\n",
    "person in order to get sensitive information such as login credentials or account\n",
    "information via email or other communication channels. Phishing is popular among\n",
    "attackers because it is easier to persuade someone to click a malicious link that appears\n",
    "to be authentic than it is to break through a computer's protection measures.\n",
    "The mail goal is to predict whether the domains are real or malicious.\n",
    "\n",
    "## Approach: \n",
    "The classical machine learning tasks like Data Exploration, Data Cleaning,\n",
    "Feature Engineering, Model Building and Model Testing. Try out different machine\n",
    "learning algorithms that’s best fit for the above case.\n",
    "\n"
   ]
  },
  {
   "cell_type": "markdown",
   "metadata": {},
   "source": [
    "\n",
    "## Dataset Link:\n",
    "https://data.mendeley.com/datasets/72ptz43s9v/1"
   ]
  },
  {
   "cell_type": "code",
   "execution_count": null,
   "metadata": {
    "vscode": {
     "languageId": "plaintext"
    }
   },
   "outputs": [],
   "source": []
  },
  {
   "cell_type": "code",
   "execution_count": null,
   "metadata": {
    "vscode": {
     "languageId": "plaintext"
    }
   },
   "outputs": [],
   "source": []
  }
 ],
 "metadata": {
  "language_info": {
   "name": "python"
  },
  "orig_nbformat": 4
 },
 "nbformat": 4,
 "nbformat_minor": 2
}
